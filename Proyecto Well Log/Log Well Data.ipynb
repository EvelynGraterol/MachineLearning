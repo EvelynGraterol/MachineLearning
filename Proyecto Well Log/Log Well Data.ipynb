{
 "cells": [
  {
   "cell_type": "code",
   "execution_count": 1,
   "metadata": {},
   "outputs": [],
   "source": [
    "import pandas as pd\n",
    "import numpy as np\n",
    "\n",
    "import matplolib.pyplot as plt\n",
    "import seaborn as sb\n",
    "\n",
    "from sklearn.cluster import KMeans\n",
    "from sklearn.metrics impor pairwise_distances_argmin_min\n",
    "\n",
    "%matplotlib inline\n",
    "from mpl_toolkits.mplot3d import Axes3D\n",
    "\n",
    "plt.rcParams\n"
   ]
  },
  {
   "cell_type": "code",
   "execution_count": 2,
   "metadata": {},
   "outputs": [],
   "source": [
    "#Fuente kaggle\n",
    "df = pd.read_csv('log.csv')"
   ]
  },
  {
   "cell_type": "code",
   "execution_count": 3,
   "metadata": {},
   "outputs": [
    {
     "data": {
      "text/html": [
       "<div>\n",
       "<style scoped>\n",
       "    .dataframe tbody tr th:only-of-type {\n",
       "        vertical-align: middle;\n",
       "    }\n",
       "\n",
       "    .dataframe tbody tr th {\n",
       "        vertical-align: top;\n",
       "    }\n",
       "\n",
       "    .dataframe thead th {\n",
       "        text-align: right;\n",
       "    }\n",
       "</style>\n",
       "<table border=\"1\" class=\"dataframe\">\n",
       "  <thead>\n",
       "    <tr style=\"text-align: right;\">\n",
       "      <th></th>\n",
       "      <th>Depth</th>\n",
       "      <th>RxoRt</th>\n",
       "      <th>RLL3</th>\n",
       "      <th>SP</th>\n",
       "      <th>RILD</th>\n",
       "      <th>MN</th>\n",
       "      <th>MI</th>\n",
       "      <th>MCAL</th>\n",
       "      <th>DCAL</th>\n",
       "      <th>RHOB</th>\n",
       "      <th>RHOC</th>\n",
       "      <th>DPOR</th>\n",
       "      <th>CNLS</th>\n",
       "      <th>GR</th>\n",
       "    </tr>\n",
       "  </thead>\n",
       "  <tbody>\n",
       "    <tr>\n",
       "      <th>0</th>\n",
       "      <td>195.0</td>\n",
       "      <td>226.0848</td>\n",
       "      <td>0.4076</td>\n",
       "      <td>69.8953</td>\n",
       "      <td>132.5052</td>\n",
       "      <td>-0.3548</td>\n",
       "      <td>0.1863</td>\n",
       "      <td>5.1090</td>\n",
       "      <td>1.8878</td>\n",
       "      <td>1.6973</td>\n",
       "      <td>-0.6303</td>\n",
       "      <td>59.2216</td>\n",
       "      <td>30.0657</td>\n",
       "      <td>60.4576</td>\n",
       "    </tr>\n",
       "    <tr>\n",
       "      <th>1</th>\n",
       "      <td>195.5</td>\n",
       "      <td>223.5031</td>\n",
       "      <td>0.4063</td>\n",
       "      <td>69.2303</td>\n",
       "      <td>123.6225</td>\n",
       "      <td>-0.3619</td>\n",
       "      <td>0.1867</td>\n",
       "      <td>5.1031</td>\n",
       "      <td>1.8882</td>\n",
       "      <td>1.6791</td>\n",
       "      <td>-0.6409</td>\n",
       "      <td>60.2877</td>\n",
       "      <td>26.7625</td>\n",
       "      <td>54.1495</td>\n",
       "    </tr>\n",
       "    <tr>\n",
       "      <th>2</th>\n",
       "      <td>196.0</td>\n",
       "      <td>221.4560</td>\n",
       "      <td>0.4047</td>\n",
       "      <td>68.4478</td>\n",
       "      <td>116.9258</td>\n",
       "      <td>-0.3668</td>\n",
       "      <td>0.1860</td>\n",
       "      <td>5.0872</td>\n",
       "      <td>1.8878</td>\n",
       "      <td>1.6585</td>\n",
       "      <td>-0.6539</td>\n",
       "      <td>61.4914</td>\n",
       "      <td>27.6017</td>\n",
       "      <td>51.9944</td>\n",
       "    </tr>\n",
       "    <tr>\n",
       "      <th>3</th>\n",
       "      <td>196.5</td>\n",
       "      <td>219.8248</td>\n",
       "      <td>0.4033</td>\n",
       "      <td>67.4843</td>\n",
       "      <td>111.7925</td>\n",
       "      <td>-0.3613</td>\n",
       "      <td>0.1867</td>\n",
       "      <td>5.0881</td>\n",
       "      <td>1.8884</td>\n",
       "      <td>1.6435</td>\n",
       "      <td>-0.6649</td>\n",
       "      <td>62.3711</td>\n",
       "      <td>31.5870</td>\n",
       "      <td>52.9645</td>\n",
       "    </tr>\n",
       "    <tr>\n",
       "      <th>4</th>\n",
       "      <td>197.0</td>\n",
       "      <td>218.1438</td>\n",
       "      <td>0.4023</td>\n",
       "      <td>66.3013</td>\n",
       "      <td>106.7821</td>\n",
       "      <td>-0.3569</td>\n",
       "      <td>0.1870</td>\n",
       "      <td>5.0972</td>\n",
       "      <td>1.8883</td>\n",
       "      <td>1.6390</td>\n",
       "      <td>-0.6705</td>\n",
       "      <td>62.6343</td>\n",
       "      <td>35.8251</td>\n",
       "      <td>54.9659</td>\n",
       "    </tr>\n",
       "  </tbody>\n",
       "</table>\n",
       "</div>"
      ],
      "text/plain": [
       "   Depth     RxoRt    RLL3       SP      RILD      MN      MI    MCAL    DCAL  \\\n",
       "0  195.0  226.0848  0.4076  69.8953  132.5052 -0.3548  0.1863  5.1090  1.8878   \n",
       "1  195.5  223.5031  0.4063  69.2303  123.6225 -0.3619  0.1867  5.1031  1.8882   \n",
       "2  196.0  221.4560  0.4047  68.4478  116.9258 -0.3668  0.1860  5.0872  1.8878   \n",
       "3  196.5  219.8248  0.4033  67.4843  111.7925 -0.3613  0.1867  5.0881  1.8884   \n",
       "4  197.0  218.1438  0.4023  66.3013  106.7821 -0.3569  0.1870  5.0972  1.8883   \n",
       "\n",
       "     RHOB    RHOC     DPOR     CNLS       GR  \n",
       "0  1.6973 -0.6303  59.2216  30.0657  60.4576  \n",
       "1  1.6791 -0.6409  60.2877  26.7625  54.1495  \n",
       "2  1.6585 -0.6539  61.4914  27.6017  51.9944  \n",
       "3  1.6435 -0.6649  62.3711  31.5870  52.9645  \n",
       "4  1.6390 -0.6705  62.6343  35.8251  54.9659  "
      ]
     },
     "execution_count": 3,
     "metadata": {},
     "output_type": "execute_result"
    }
   ],
   "source": [
    "#Visualizacion de la data\n",
    "df.head()"
   ]
  },
  {
   "cell_type": "code",
   "execution_count": 4,
   "metadata": {},
   "outputs": [
    {
     "data": {
      "text/plain": [
       "(8739, 14)"
      ]
     },
     "execution_count": 4,
     "metadata": {},
     "output_type": "execute_result"
    }
   ],
   "source": [
    "#cantidad de datos\n",
    "df.shape"
   ]
  },
  {
   "cell_type": "code",
   "execution_count": null,
   "metadata": {},
   "outputs": [],
   "source": []
  },
  {
   "cell_type": "code",
   "execution_count": null,
   "metadata": {},
   "outputs": [],
   "source": []
  }
 ],
 "metadata": {
  "kernelspec": {
   "display_name": "Python 3",
   "language": "python",
   "name": "python3"
  },
  "language_info": {
   "codemirror_mode": {
    "name": "ipython",
    "version": 3
   },
   "file_extension": ".py",
   "mimetype": "text/x-python",
   "name": "python",
   "nbconvert_exporter": "python",
   "pygments_lexer": "ipython3",
   "version": "3.7.3"
  }
 },
 "nbformat": 4,
 "nbformat_minor": 2
}
